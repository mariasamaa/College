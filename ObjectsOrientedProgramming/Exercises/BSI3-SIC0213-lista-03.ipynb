{
 "cells": [
  {
   "cell_type": "markdown",
   "metadata": {},
   "source": [
    "# Atividade Prática 03: Polimorfismo\n",
    "\n",
    "**Aluna:** Maria Fernanda Caetano\n",
    "\n",
    "**Disciplina:** Programação Orientada a Objetos I\n",
    "\n",
    "**Curso:** Bacharelado em Sistemas de Informação\n",
    "\n",
    "**Turma:** BSI-3"
   ]
  },
  {
   "attachments": {},
   "cell_type": "markdown",
   "metadata": {},
   "source": [
    "### Classe Animais\n",
    "\n",
    "Crie uma hierarquia de classes para animais, com uma classe mãe Animal e subclasses Cachorro, Gato e Peixe. Cada subclasse deve ter um método falar() que retorne uma string representando o som que o animal faz. Demonstre o polimorfismo chamando falar() nas instâncias de cada subclasse."
   ]
  },
  {
   "cell_type": "code",
   "execution_count": 1,
   "metadata": {},
   "outputs": [],
   "source": [
    "class Animal():\n",
    "  pass\n",
    "\n",
    "class Cachorro (Animal):\n",
    "\n",
    "  def falar (self):\n",
    "    print (\"Au! Au!\")\n",
    "\n",
    "class Gato (Animal):\n",
    "\n",
    "  def falar (self):\n",
    "    print (\"Miau!\")\n",
    "\n",
    "class Peixe (Animal):\n",
    "\n",
    "  def falar (self):\n",
    "    print (\"Glub!\")"
   ]
  },
  {
   "cell_type": "code",
   "execution_count": 2,
   "metadata": {},
   "outputs": [
    {
     "name": "stdout",
     "output_type": "stream",
     "text": [
      "Au! Au!\n",
      "Miau!\n",
      "Glub!\n"
     ]
    }
   ],
   "source": [
    "# TESTES\n",
    "cachorrinho = Cachorro()\n",
    "gatinho = Gato()\n",
    "peixinho = Peixe()\n",
    "\n",
    "cachorrinho.falar()\n",
    "gatinho.falar()\n",
    "peixinho.falar()"
   ]
  },
  {
   "attachments": {},
   "cell_type": "markdown",
   "metadata": {},
   "source": [
    "### Classe Animal\n",
    "Crie uma classe Animal com um método falar(). Em seguida, crie duas classes filhas, Cachorro e Gato, que herdam da classe Animal. Cada uma destas classes filhas deve ter seu próprio método falar() que retorne um som diferente (e.g. latidos para o cachorro e miados para o gato). Em seguida, crie uma lista de animais que inclua um cachorro e um gato. Por fim, itere sobre a lista e chame o método falar() de cada animal."
   ]
  },
  {
   "cell_type": "code",
   "execution_count": 3,
   "metadata": {},
   "outputs": [],
   "source": [
    "class Animal():\n",
    "  def falar (self):\n",
    "    pass\n",
    "\n",
    "class Cachorro (Animal):\n",
    "  def falar (self):\n",
    "    print (\"Au! Au!\")\n",
    "\n",
    "class Gato (Animal):\n",
    "  def falar (self):\n",
    "    print (\"Miau!\")"
   ]
  },
  {
   "cell_type": "code",
   "execution_count": 4,
   "metadata": {},
   "outputs": [
    {
     "name": "stdout",
     "output_type": "stream",
     "text": [
      "Au! Au!\n",
      "Miau!\n",
      "Au! Au!\n",
      "Miau!\n",
      "Au! Au!\n",
      "Miau!\n",
      "Au! Au!\n",
      "Miau!\n"
     ]
    }
   ],
   "source": [
    "# TESTES\n",
    "animais = ['Thor', 'Luke', 'Amora', 'Bob', 'Fred', 'Luna', 'Marley', 'Mel']\n",
    "for i, animal in enumerate(animais):\n",
    "  if i % 2 == 0:\n",
    "    animal = Cachorro()\n",
    "  else:\n",
    "    animal = Gato()\n",
    "  animal.falar()\n",
    "  "
   ]
  },
  {
   "attachments": {},
   "cell_type": "markdown",
   "metadata": {},
   "source": [
    "### Classe Carro\n",
    "Crie uma classe chamada Carro com um método dirigir(). Em seguida, crie duas subclasses, CarroGasolina e CarroEletrico, cada uma com sua própria implementação de dirigir(). Demonstre o polimorfismo passando instâncias de ambas as subclasses para uma função que recebe um objeto Carro."
   ]
  },
  {
   "cell_type": "code",
   "execution_count": 5,
   "metadata": {},
   "outputs": [],
   "source": [
    "class Carro():\n",
    "  def dirigir (self):\n",
    "    print (\"Dirigindo meu carro...\")\n",
    "\n",
    "class CarroGasolina(Carro):\n",
    "  def dirigir (self):\n",
    "    print(\"Dirigindo meu carro à gasolina...\")\n",
    "\n",
    "class CarroEletrico(Carro):\n",
    "  def dirigir (Self):\n",
    "    print(\"Dirigindo meu carro elétrico...\")"
   ]
  },
  {
   "cell_type": "code",
   "execution_count": 6,
   "metadata": {},
   "outputs": [
    {
     "name": "stdout",
     "output_type": "stream",
     "text": [
      "Dirigindo meu carro...\n",
      "Dirigindo meu carro à gasolina...\n",
      "Dirigindo meu carro elétrico...\n"
     ]
    }
   ],
   "source": [
    "# TESTES\n",
    "\n",
    "carrinho1 = Carro()\n",
    "carrinho1.dirigir()\n",
    "carrinho2 = CarroGasolina()\n",
    "carrinho2.dirigir()\n",
    "carrinho3 = CarroEletrico()\n",
    "carrinho3.dirigir()"
   ]
  },
  {
   "attachments": {},
   "cell_type": "markdown",
   "metadata": {},
   "source": [
    "### Classe Forma\n",
    "Crie uma classe Forma com um método area(). Em seguida, crie duas classes filhas, Circulo e Quadrado, que herdam da classe Forma. Cada uma destas classes filhas deve ter seu próprio método area() que calcula a área do círculo ou do quadrado, respectivamente. Em seguida, crie uma lista de formas que inclua um círculo e um quadrado. Por fim, itere sobre a lista e chame o método area() de cada forma."
   ]
  },
  {
   "cell_type": "code",
   "execution_count": 7,
   "metadata": {},
   "outputs": [],
   "source": [
    "from math import pi\n",
    "\n",
    "class Forma():\n",
    "  def __init__ (self, valor):\n",
    "    self._valor = valor\n",
    "\n",
    "  def area (self):\n",
    "    pass\n",
    "\n",
    "class Circulo (Forma):\n",
    "  def area (self):\n",
    "    print (f\"Area do Círculo = {round((pi*(self._valor**2)),2)}cm²\")\n",
    "\n",
    "class Quadrado(Forma):\n",
    "  def area (self):\n",
    "    print (f\"Area do Quadrado = {self._valor**2}cm²\")"
   ]
  },
  {
   "cell_type": "code",
   "execution_count": 8,
   "metadata": {},
   "outputs": [
    {
     "name": "stdout",
     "output_type": "stream",
     "text": [
      "Area do Círculo = 314.16cm²\n",
      "Area do Quadrado = 25cm²\n"
     ]
    }
   ],
   "source": [
    "# TESTES\n",
    "\n",
    "forminha = Forma(10)\n",
    "forminha.area() #não deve devolver nada, pois é um método vazio\n",
    "circulinho = Circulo(10)\n",
    "circulinho.area()\n",
    "quadradinho = Quadrado (5)\n",
    "quadradinho.area()"
   ]
  },
  {
   "attachments": {},
   "cell_type": "markdown",
   "metadata": {},
   "source": [
    "### Classe Empregado\n",
    "Crie uma classe Empregado com um método pagar_salario(). Em seguida, crie duas classes filhas, EmpregadoHora e EmpregadoMes, que herdam da classe Empregado. Cada uma das classes filhas deve ter seu próprio método pagar_salario() que calcula o salário com base no número de horas trabalhadas ou no salário mensal, respectivamente. Em seguida, crie uma lista de funcionários que inclua um funcionário horista e um funcionário mensalista. Por fim, itere sobre a lista e chame o método pagar_salario() de cada funcionário."
   ]
  },
  {
   "cell_type": "code",
   "execution_count": 9,
   "metadata": {},
   "outputs": [],
   "source": [
    "class Empregado():\n",
    "  def pagarSalario(self):\n",
    "    pass\n",
    "\n",
    "class EmpregadoHora(Empregado):\n",
    "  def pagarSalario(self, horas_trabalhadas):\n",
    "    print (f\"Salário Horista = R${round((horas_trabalhadas * 5.51),2)}\")\n",
    "    # salário mínimo por hora para horista = R$5,51\n",
    "\n",
    "class EmpregadoMes(Empregado):\n",
    "  def pagarSalario(self, dias_trabalhados):\n",
    "    print (f\"Salário Mensalista = R${round((dias_trabalhados * 40.40),2)}\")\n",
    "    # salário mínimo por dia para mensalista = R$40,40"
   ]
  },
  {
   "cell_type": "code",
   "execution_count": 10,
   "metadata": {},
   "outputs": [
    {
     "name": "stdout",
     "output_type": "stream",
     "text": [
      "\n",
      "\n",
      "Chico trabalhou 19 dias nesse mês\n",
      "Salário Mensalista = R$767.6\n",
      "\n",
      "\n",
      "Rafael trabalhou 9 horas hoje\n",
      "Salário Horista = R$49.59\n",
      "\n",
      "\n",
      "Guilherme trabalhou 15 dias nesse mês\n",
      "Salário Mensalista = R$606.0\n",
      "\n",
      "\n",
      "Renan trabalhou 4 horas hoje\n",
      "Salário Horista = R$22.04\n",
      "\n",
      "\n",
      "Poliana trabalhou 13 dias nesse mês\n",
      "Salário Mensalista = R$525.2\n",
      "\n",
      "\n"
     ]
    }
   ],
   "source": [
    "# TESTES\n",
    "from random import randint\n",
    "\n",
    "empregadinhos = ['Maria', 'Chico', 'Rafael', 'Guilherme', 'Renan', 'Poliana']\n",
    "for i, empregadinho in enumerate(empregadinhos):\n",
    "  if i > 0:\n",
    "    if i % 2 == 0:\n",
    "      horas = randint(1,12)\n",
    "      print(f\"{empregadinho} trabalhou {horas} horas hoje\")\n",
    "      empregadinho = EmpregadoHora()\n",
    "      empregadinho.pagarSalario(horas)\n",
    "    if i % 2 != 0:\n",
    "      dias = randint(1,30)\n",
    "      print(f\"{empregadinho} trabalhou {dias} dias nesse mês\")\n",
    "      empregadinho = EmpregadoMes()\n",
    "      empregadinho.pagarSalario(dias)\n",
    "  print ('\\n')"
   ]
  },
  {
   "attachments": {},
   "cell_type": "markdown",
   "metadata": {},
   "source": [
    "### Classe Conta Bancaria\n",
    "Crie uma classe chamada ContaBancaria com os métodos deposito() e retirada(). Crie duas subclasses: ContaPoupanca e ContaCorrente. Cada uma dessas subclasses deve ter sua própria taxa de juros (a taxa de juros da Conta Poupança é maior que a da Conta Corrente)."
   ]
  },
  {
   "cell_type": "code",
   "execution_count": 11,
   "metadata": {},
   "outputs": [],
   "source": [
    "class ContaBancaria():\n",
    "  def __init__ (self, saldo=0):\n",
    "    self._saldo = saldo\n",
    "\n",
    "  def deposito(self, valor):\n",
    "    self._saldo += valor\n",
    "  \n",
    "  def saque(self, valor):\n",
    "    if self._saldo - valor < 0:\n",
    "      print (\"Saldo Insuficiente!\")\n",
    "    else:\n",
    "      self._saldo -= valor\n",
    "\n",
    "class ContaPoupanca(ContaBancaria):\n",
    "  _taxaJuros = 0.5\n",
    "\n",
    "  def calcularJuros (self):\n",
    "    self._saldo += self._saldo * self._taxaJuros\n",
    "\n",
    "class ContaCorrente(ContaBancaria):\n",
    "  _taxaJuros = 0.3\n",
    "\n",
    "  def calcularJuros (self):\n",
    "    self._saldo += self._saldo * self._taxaJuros"
   ]
  },
  {
   "cell_type": "code",
   "execution_count": 12,
   "metadata": {},
   "outputs": [
    {
     "name": "stdout",
     "output_type": "stream",
     "text": [
      "Saldo Insuficiente!\n",
      "50\n",
      "45.0\n",
      "39.0\n"
     ]
    }
   ],
   "source": [
    "# TESTES\n",
    "\n",
    "continha = ContaBancaria()\n",
    "continha.deposito(100)\n",
    "continha.saque(150)\n",
    "continha.deposito(100)\n",
    "continha.saque(150)\n",
    "print(continha._saldo)\n",
    "\n",
    "poupancinha = ContaPoupanca()\n",
    "poupancinha.deposito(50)\n",
    "poupancinha.saque(20)\n",
    "poupancinha.calcularJuros()\n",
    "print(poupancinha._saldo)\n",
    "\n",
    "correntinha = ContaCorrente()\n",
    "correntinha.deposito(50)\n",
    "correntinha.saque(20)\n",
    "correntinha.calcularJuros()\n",
    "print(correntinha._saldo)"
   ]
  }
 ],
 "metadata": {
  "kernelspec": {
   "display_name": "Python 3",
   "language": "python",
   "name": "python3"
  },
  "language_info": {
   "codemirror_mode": {
    "name": "ipython",
    "version": 3
   },
   "file_extension": ".py",
   "mimetype": "text/x-python",
   "name": "python",
   "nbconvert_exporter": "python",
   "pygments_lexer": "ipython3",
   "version": "3.11.3"
  },
  "orig_nbformat": 4
 },
 "nbformat": 4,
 "nbformat_minor": 2
}
