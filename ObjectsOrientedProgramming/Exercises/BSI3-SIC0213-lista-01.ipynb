{
 "cells": [
  {
   "attachments": {},
   "cell_type": "markdown",
   "metadata": {},
   "source": [
    "# Atividade Prática 01: Classes e Métodos\n",
    "\n",
    "**Aluna:** Maria Fernanda Caetano\n",
    "\n",
    "**Disciplina:** Programação Orientada a Objetos I\n",
    "\n",
    "**Curso:** Bacharelado em Sistemas de Informação\n",
    "\n",
    "**Turma:** BSI-3"
   ]
  },
  {
   "attachments": {},
   "cell_type": "markdown",
   "metadata": {},
   "source": [
    "### Classe bola\n",
    "\n",
    "Crie uma classe que modele uma bola. **Atributos:** cor, circunferência e material. **Métodos:** trocarCor e mostrarCor da boa."
   ]
  },
  {
   "cell_type": "code",
   "execution_count": 29,
   "metadata": {},
   "outputs": [],
   "source": [
    "class Bola():\n",
    "  def __init__ (self, cor, material, circunferencia):\n",
    "    self.cor = cor\n",
    "    self.circunferencia = circunferencia #medida em mm\n",
    "    self.material = material\n",
    "\n",
    "  def trocaCor (self, cor):\n",
    "    self.cor = cor\n",
    "    \n",
    "  def mostraCor (self):\n",
    "    print (f\"A cor da bola é {self.cor}\")"
   ]
  },
  {
   "cell_type": "code",
   "execution_count": 30,
   "metadata": {},
   "outputs": [
    {
     "name": "stdout",
     "output_type": "stream",
     "text": [
      "A cor da bola é verde\n",
      "A cor da bola é rosa\n"
     ]
    }
   ],
   "source": [
    "# TESTES\n",
    "bolinha = Bola('verde', 'borracha', 40)\n",
    "bolinha.mostraCor()\n",
    "bolinha.trocaCor('rosa')\n",
    "bolinha.mostraCor()"
   ]
  },
  {
   "attachments": {},
   "cell_type": "markdown",
   "metadata": {},
   "source": [
    "*texto em itálico*### Classe quadrado\n",
    "\n",
    "Crie uma classe que modele um quadrado. **Atributos:** tamanho do lado. **Métodos:** Mudar valor do Lado, Retornar valor do Lado e calcular Área."
   ]
  },
  {
   "cell_type": "code",
   "execution_count": 31,
   "metadata": {},
   "outputs": [],
   "source": [
    "class Quadrado():\n",
    "  def __init__ (self, lado):\n",
    "    self.tamanhoLado = lado #em centíemtros\n",
    "\n",
    "  def mudarLado (self, lado):\n",
    "    self.tamanhoLado = lado\n",
    "\n",
    "  def mostrarLado (self):\n",
    "    print (f\"O lado do seu quadrado é {self.tamanhoLado}cm\")\n",
    "\n",
    "  def calcularArea (self):\n",
    "    print (f\"A area do seu quadrado é {self.tamanhoLado*self.tamanhoLado}cm\")"
   ]
  },
  {
   "cell_type": "code",
   "execution_count": 32,
   "metadata": {},
   "outputs": [
    {
     "name": "stdout",
     "output_type": "stream",
     "text": [
      "O lado do seu quadrado é 20cm\n",
      "A area do seu quadrado é 400cm\n",
      "O lado do seu quadrado é 30cm\n",
      "A area do seu quadrado é 900cm\n"
     ]
    }
   ],
   "source": [
    "# TESTES \n",
    "quadradinho = Quadrado(20)\n",
    "quadradinho.mostrarLado()\n",
    "quadradinho.calcularArea()\n",
    "quadradinho.mudarLado(30)\n",
    "quadradinho.mostrarLado()\n",
    "quadradinho.calcularArea()"
   ]
  },
  {
   "attachments": {},
   "cell_type": "markdown",
   "metadata": {},
   "source": [
    "### Classe retangulo\n",
    "\n",
    "Criar uma classe que modele um retângulo. **Atributos:** LadoA, LadoB (ou Comprimento e Largura, ou Base e Altura, a escolher). **Métodos:** Mudar valor dos lados, Retornar valor dos lados, calcular Área e calcular Perímetro.\n",
    "\n",
    "Crie um programa que utilize esta classe. Ele deve pedir ao usuário que informe as medidades de um local. Depois, deve criar um objeto com as medidas e calcular a quantidade de pisos e de rodapés necessárias para o local."
   ]
  },
  {
   "cell_type": "code",
   "execution_count": 33,
   "metadata": {},
   "outputs": [],
   "source": [
    "class Retangulo():\n",
    "  \n",
    "  def __init__ (self, largura, comprimento):\n",
    "    self.largura = largura #em metros\n",
    "    self.comprimento = comprimento #em metros\n",
    "\n",
    "  def mudarValor (self, largura, comprimento):\n",
    "    self.largura = largura \n",
    "    self.comprimento = comprimento\n",
    "  \n",
    "  def retornarValor (self):\n",
    "    print (f\"\\033[34mLargura = \\033[0m {self.largura}\\n\\033[34mComprimento =\\033[0m {self.comprimento}\")\n",
    "  \n",
    "  def calcularArea (self):\n",
    "    return self.largura*self.comprimento\n",
    "  \n",
    "  def mostrarArea (self):\n",
    "    print (f\"\\033[34mArea = \\033[0m {self.largura*self.comprimento}\")\n",
    "\n",
    "  def calcularPerimetro(self):\n",
    "    return (self.largura*2)+(self.comprimento*2)\n",
    "\n",
    "  def mostrarPerimetro (self):\n",
    "    print (f\"\\033[34mPerímetro = \\033[0m {(self.largura*2)+(self.comprimento*2)}\")"
   ]
  },
  {
   "cell_type": "code",
   "execution_count": 34,
   "metadata": {},
   "outputs": [
    {
     "name": "stdout",
     "output_type": "stream",
     "text": [
      "\u001b[34mLargura = \u001b[0m 15\n",
      "\u001b[34mComprimento =\u001b[0m 30\n",
      "\u001b[34mLargura = \u001b[0m 10\n",
      "\u001b[34mComprimento =\u001b[0m 20\n",
      "\u001b[34mArea = \u001b[0m 200\n",
      "\u001b[34mPerímetro = \u001b[0m 60\n",
      "Para uma sala com as medidas \u001b[34m10x20\u001b[0m\n",
      "será necessário 60 metros de \u001b[34mrodapé\u001b[0m e 500.0 \u001b[34mpisos\u001b[0m\n"
     ]
    }
   ],
   "source": [
    "# TESTES\n",
    "\n",
    "retangulinho = Retangulo(15,30)\n",
    "retangulinho.retornarValor()\n",
    "retangulinho.mudarValor(10,20)\n",
    "retangulinho.retornarValor()\n",
    "\n",
    "retangulinho.mostrarArea()\n",
    "retangulinho.mostrarPerimetro()\n",
    "\n",
    "# levando em consideração que um piso 20x20cm tem 400cm² de àrea, ele tem 0,4m² de area também\n",
    "pisos = int(retangulinho.calcularArea())/0.4\n",
    "rodape = retangulinho.calcularPerimetro()\n",
    "print (f\"\"\"Para uma sala com as medidas \\033[34m{retangulinho.largura}x{retangulinho.comprimento}\\033[0m\n",
    "será necessário {rodape} metros de \\033[34mrodapé\\033[0m e {pisos} \\033[34mpisos\\033[0m\"\"\")\n"
   ]
  },
  {
   "attachments": {},
   "cell_type": "markdown",
   "metadata": {},
   "source": [
    "### Classe Pessoa\n",
    "\n",
    "Crie uma classe que modele uma pessoa. **Atributos:** nome, idade, peso e altura. **Métodos:**  envelhercer, engordar, emagrecer, crescer. **Obs:** Por padrão, a cada ano que nossa pessoa envelhece, sendo a idade dela menor que 21 anos, ela deve crescer 0,5 cm."
   ]
  },
  {
   "cell_type": "code",
   "execution_count": 35,
   "metadata": {},
   "outputs": [],
   "source": [
    "class Pessoa():\n",
    "\n",
    "  def __init__ (self, nome, idade, peso, altura):\n",
    "    self.nome = nome\n",
    "    self.idade = idade\n",
    "    self.peso = peso # em quilogramas\n",
    "    self.altura = altura # em metros\n",
    "  \n",
    "  def crescer (self, quantidade):\n",
    "    self.altura = self.altura + quantidade\n",
    "  \n",
    "  def envelhecer (self):\n",
    "    self.idade = self.idade + 1\n",
    "    if self.idade < 21:\n",
    "      self.altura = round((self.altura + 0.5),3)\n",
    "\n",
    "  def emagrecer (self,kg):\n",
    "    self.peso = self.peso - kg\n",
    "\n",
    "  def engordar (self, kg): \n",
    "    self.peso = self.peso + kg\n",
    "\n",
    "  def __str__ (self):\n",
    "    return f\"{self.nome} tem {self.idade} anos, pesa {self.peso}kg e tem {self.altura}cm de altura\""
   ]
  },
  {
   "cell_type": "code",
   "execution_count": 36,
   "metadata": {},
   "outputs": [
    {
     "name": "stdout",
     "output_type": "stream",
     "text": [
      "Maria tem 18 anos, pesa 65kg e tem 170.5cm de altura\n",
      "Maria tem 18 anos, pesa 65kg e tem 171.5cm de altura\n",
      "Maria tem 19 anos, pesa 65kg e tem 172.0cm de altura\n",
      "Maria tem 19 anos, pesa 75kg e tem 172.0cm de altura\n",
      "Maria tem 19 anos, pesa 75kg e tem 175.0cm de altura\n",
      "Maria tem 20 anos, pesa 75kg e tem 175.5cm de altura\n",
      "Maria tem 20 anos, pesa 73kg e tem 180.5cm de altura\n",
      "Maria tem 20 anos, pesa 73kg e tem 180.5cm de altura\n",
      "Maria tem 21 anos, pesa 73kg e tem 180.5cm de altura\n",
      "Maria tem 21 anos, pesa 81kg e tem 180.5cm de altura\n"
     ]
    }
   ],
   "source": [
    "# TESTES\n",
    "\n",
    "pessoinha = Pessoa(\"Maria\", 17, 65, 170)\n",
    "pessoinha.envelhecer()\n",
    "print (pessoinha)\n",
    "pessoinha.crescer(1)\n",
    "print (pessoinha)\n",
    "pessoinha.envelhecer()\n",
    "print (pessoinha)\n",
    "pessoinha.engordar(10)\n",
    "print (pessoinha)\n",
    "pessoinha.crescer(3)\n",
    "print (pessoinha)\n",
    "pessoinha.envelhecer()\n",
    "print (pessoinha)\n",
    "pessoinha.crescer(5)\n",
    "pessoinha.emagrecer(2)\n",
    "print (pessoinha)\n",
    "print (pessoinha)\n",
    "pessoinha.envelhecer()\n",
    "print (pessoinha)\n",
    "pessoinha.engordar(8)\n",
    "print (pessoinha)\n",
    "\n"
   ]
  },
  {
   "attachments": {},
   "cell_type": "markdown",
   "metadata": {},
   "source": [
    "### Classe Conta Corrente\n",
    "\n",
    "Crie uma classe para implementar uma conta corrente. A classe deve possuir os seguintes atributos: número da conta, nome do correntista e saldo. Os métodos são os seguintes: alterarNome, depósito e saque; No construtor, saldo é opcional, com valor default zero e os demais atributos são obrigatórios.\n"
   ]
  },
  {
   "cell_type": "code",
   "execution_count": 37,
   "metadata": {},
   "outputs": [],
   "source": [
    "class ContaCorrente():\n",
    "  def __init__ (self, conta, nome, saldo=None):\n",
    "    self.conta = conta\n",
    "    self.nome = nome\n",
    "    if saldo != None: \n",
    "      self.saldo = saldo\n",
    "\n",
    "  def alterarNome (self, nome):\n",
    "    self.nome = nome\n",
    "  \n",
    "  def deposito (self, valor):\n",
    "    self.saldo +=  valor\n",
    "\n",
    "  def saque (self,valor):\n",
    "    self.saldo -= valor\n",
    "\n",
    "  def __str__ (self):\n",
    "    return f\"A conta {self.conta} de {self.nome} tem R${self.saldo},00 de saldo\""
   ]
  },
  {
   "cell_type": "code",
   "execution_count": 38,
   "metadata": {},
   "outputs": [
    {
     "name": "stdout",
     "output_type": "stream",
     "text": [
      "A conta 1254865-6 de Maria tem R$100,00 de saldo\n",
      "A conta 1254865-6 de Mabel tem R$150,00 de saldo\n",
      "A conta 1254865-6 de Mabel tem R$130,00 de saldo\n"
     ]
    }
   ],
   "source": [
    "# TESTES\n",
    "continha = ContaCorrente ('1254865-6','Maria', 100)\n",
    "print (continha)\n",
    "continha.alterarNome('Mabel')\n",
    "continha.deposito(50)\n",
    "print (continha)\n",
    "continha.saque(20)\n",
    "print (continha)"
   ]
  },
  {
   "attachments": {},
   "cell_type": "markdown",
   "metadata": {},
   "source": [
    "### Classe Conta Investimento\n",
    "\n",
    "Faça uma classe chamada contaInvestimento que seja semelhante à\n",
    "classe contaBancaria, com a diferença de que se adicione um atributo taxaJuros. Forneça um construtor que configure tanto o saldo inicial como a taxa de juros. Forneça um método adicioneJuros (sem parâmetro explícito) que adicione juros à conta. Escreva um programa que construa uma poupança com um saldo inicial de R$1000,00 e uma taxa de juros de 10%. Depois aplique o método adicioneJuros() cinco vezes e imprime o saldo resultante."
   ]
  },
  {
   "cell_type": "code",
   "execution_count": 39,
   "metadata": {},
   "outputs": [],
   "source": [
    "class ContaInvestimento():\n",
    "  def __init__ (self, nome, conta, saldo, taxa):\n",
    "    self.nome = nome\n",
    "    self.conta = conta\n",
    "    self.saldo = saldo \n",
    "    self.taxa = taxa # Taxa em %\n",
    "\n",
    "  def adicioneJuros(self):\n",
    "    self.saldo = self.saldo + ((self.taxa*self.saldo)/100)\n",
    "  \n",
    "  def __str__ (self):\n",
    "    return f\"A conta {self.conta} de {self.nome} tem um saldo de R${self.saldo},00 na poupança\""
   ]
  },
  {
   "cell_type": "code",
   "execution_count": 40,
   "metadata": {},
   "outputs": [
    {
     "name": "stdout",
     "output_type": "stream",
     "text": [
      "A conta 1548932-5 de Maria tem um saldo de R$1100.0,00 na poupança\n",
      "A conta 1548932-5 de Maria tem um saldo de R$1210.0,00 na poupança\n",
      "A conta 1548932-5 de Maria tem um saldo de R$1331.0,00 na poupança\n",
      "A conta 1548932-5 de Maria tem um saldo de R$1464.1,00 na poupança\n"
     ]
    }
   ],
   "source": [
    "# TESTES\n",
    "\n",
    "continha = ContaInvestimento (\"Maria\",\"1548932-5\", 1000, 10)\n",
    "continha.adicioneJuros()\n",
    "print (continha)\n",
    "continha.adicioneJuros()\n",
    "print (continha)\n",
    "continha.adicioneJuros()\n",
    "print (continha)\n",
    "continha.adicioneJuros()\n",
    "print (continha)\n",
    "continha.adicioneJuros()"
   ]
  },
  {
   "attachments": {},
   "cell_type": "markdown",
   "metadata": {},
   "source": [
    "### Classe Funcionário\n",
    "\n",
    "Implemente a classe Funcionário. Um empregado tem um nome (um string) e\n",
    "um salário(um double). Escreva um construtor com dois parâmetros (nome e salário) e métodos para devolver nome e salário. Escreva um pequeno programa que teste sua classe.\n",
    "\n",
    "• Aprimore a classe do exercício anterior para adicionar o método aumentarSalario (porcentualDeAumento) que aumente o salário do funcionário em uma certa porcentagem."
   ]
  },
  {
   "cell_type": "code",
   "execution_count": 41,
   "metadata": {},
   "outputs": [],
   "source": [
    "class Funcionario():\n",
    "  def __init__ (self, nome, salario):\n",
    "    self.nome = nome\n",
    "    self.salario = salario\n",
    "\n",
    "  def mostraInfo (self):\n",
    "    print (f\"\\n\\033[32mNome:\\033[0m {self.nome}\\n\\033[32mSalario:\\033[0m R${self.salario}\\n\")\n",
    "  \n",
    "  def aumentarSalario (self, percentual):\n",
    "    print (f\"Aumento no salario de {percentual}%\")\n",
    "    self.salario = round((self.salario + ((percentual*self.salario)/100)),2)"
   ]
  },
  {
   "cell_type": "code",
   "execution_count": 42,
   "metadata": {},
   "outputs": [
    {
     "name": "stdout",
     "output_type": "stream",
     "text": [
      "\n",
      "\u001b[32mNome:\u001b[0m Maria\n",
      "\u001b[32mSalario:\u001b[0m R$1200\n",
      "\n",
      "Aumento no salario de 10%\n",
      "\n",
      "\u001b[32mNome:\u001b[0m Maria\n",
      "\u001b[32mSalario:\u001b[0m R$1320.0\n",
      "\n"
     ]
    }
   ],
   "source": [
    "# TESTES\n",
    "\n",
    "funcionario1 = Funcionario(\"Maria\",1200)\n",
    "funcionario1.mostraInfo()\n",
    "funcionario1.aumentarSalario(10)\n",
    "funcionario1.mostraInfo()"
   ]
  },
  {
   "attachments": {},
   "cell_type": "markdown",
   "metadata": {},
   "source": [
    "### Classe TV \n",
    "\n",
    "Faça um programa que simule um televisor criando-o como um objeto. O usuário deve  ser capaz de informar o número do canal e aumentar ou diminuir o volume. Certifique-se de que o  número do canal e o nível do volume permanecem dentro de faixas válidas."
   ]
  },
  {
   "cell_type": "code",
   "execution_count": 43,
   "metadata": {},
   "outputs": [],
   "source": [
    "class Televisao():\n",
    "  canalAtual = 10\n",
    "  volumeAtual = 35\n",
    "\n",
    "  def aumentarVolume (self):\n",
    "    if self.volumeAtual + 1 > 100:\n",
    "      raise ValueError (\"O volume ultrapassa do limite máximo\")\n",
    "    else:\n",
    "      self.volumeAtual = self.volumeAtual + 1\n",
    "      return (self.volumeAtual)\n",
    "  \n",
    "  def diminuirVolume (self):\n",
    "    if self.volumeAtual - 1 < 0:\n",
    "      raise ValueError (\"O volume ultrapassa o limite mínimo\")    \n",
    "    else:\n",
    "      self.volumeAtual = self.volumeAtual - 1\n",
    "  \n",
    "  def mostrarVolume (self):\n",
    "    print (f\"Volume Atual: {self.volumeAtual}\")\n",
    "\n",
    "  def mostrarCanal (self):\n",
    "    print (f\"Canal Atual: {self.canalAtual}\")\n",
    "  \n",
    "  def mudarCanal (self, canal):\n",
    "    if 0 < canal <= 200:\n",
    "      self.canalAtual = canal\n",
    "    else:\n",
    "      raise ValueError (\"Só existem canais entre 1 e 200\")"
   ]
  },
  {
   "cell_type": "code",
   "execution_count": 44,
   "metadata": {},
   "outputs": [
    {
     "name": "stdout",
     "output_type": "stream",
     "text": [
      "Canal Atual: 10\n",
      "Canal Atual: 14\n",
      "Volume Atual: 35\n",
      "Volume Atual: 36\n",
      "Volume Atual: 37\n",
      "Volume Atual: 38\n",
      "Volume Atual: 37\n",
      "Volume Atual: 36\n"
     ]
    }
   ],
   "source": [
    "# TESTES\n",
    "\n",
    "#ligando a tv :)\n",
    "tevezinha = Televisao()\n",
    "tevezinha.mostrarCanal()\n",
    "tevezinha.mudarCanal (14)\n",
    "tevezinha.mostrarCanal()\n",
    "\n",
    "tevezinha.mostrarVolume()\n",
    "tevezinha.aumentarVolume()\n",
    "tevezinha.mostrarVolume()\n",
    "tevezinha.aumentarVolume()\n",
    "tevezinha.mostrarVolume()\n",
    "tevezinha.aumentarVolume()\n",
    "tevezinha.mostrarVolume()\n",
    "tevezinha.diminuirVolume()\n",
    "tevezinha.mostrarVolume()\n",
    "tevezinha.diminuirVolume()\n",
    "tevezinha.mostrarVolume()"
   ]
  },
  {
   "attachments": {},
   "cell_type": "markdown",
   "metadata": {},
   "source": [
    "### Classe Macaco\n",
    "\n",
    "Desenvolva uma classe Macaco,que possua os atributos nome e bucho (estomago)\n",
    "e pelo menos os métodos comer(), verBucho() e digerir(). Faça um programa ou teste interativamente, criando pelo menos dois macacos, alimentando-os com pelo menos 3 alimentos diferentes e  verificando o conteúdo do estomago a cada refeição. Experimente fazer com que um macaco coma o outro. É possível criar um macaco canibal?"
   ]
  },
  {
   "cell_type": "code",
   "execution_count": 45,
   "metadata": {},
   "outputs": [],
   "source": [
    "class Macaco():\n",
    "  def __init__ (self, nome):\n",
    "    self.nome = nome\n",
    "  bucho = []\n",
    "\n",
    "  def comer (self, comida):\n",
    "    self.bucho.append(comida)\n",
    "    \n",
    "  def verBucho (self):\n",
    "    return f\"Bucho de {self.nome} = {self.bucho}\"\n",
    "  \n",
    "  def digerir (self):\n",
    "    print (\"Digerindo...\")\n",
    "    self.bucho.clear()"
   ]
  },
  {
   "cell_type": "code",
   "execution_count": 46,
   "metadata": {},
   "outputs": [
    {
     "name": "stdout",
     "output_type": "stream",
     "text": [
      "Bob\n",
      "Bucho de Bob = ['banana', 'maça', 'mamao']\n",
      "Digerindo...\n",
      "Bucho de Bob = []\n",
      "Tod\n",
      "Bucho de Tod = []\n",
      "Bucho de Tod = ['Bob']\n",
      "Digerindo...\n",
      "Bucho de Tod = []\n"
     ]
    }
   ],
   "source": [
    "# TESTES\n",
    "\n",
    "macaco1 = Macaco(\"Bob\")\n",
    "print (macaco1.nome)\n",
    "macaco1.comer(\"banana\")\n",
    "macaco1.comer(\"maça\")\n",
    "macaco1.comer(\"mamao\")\n",
    "print (macaco1.verBucho())\n",
    "macaco1.digerir()\n",
    "print (macaco1.verBucho())\n",
    "\n",
    "macaco2 = Macaco(\"Tod\")\n",
    "print (macaco2.nome)\n",
    "print (macaco2.verBucho())\n",
    "macaco2.comer(macaco1.nome)\n",
    "print (macaco2.verBucho())\n",
    "macaco2.digerir()\n",
    "print (macaco2.verBucho()) # é possível fazer um macaco canibal"
   ]
  },
  {
   "attachments": {},
   "cell_type": "markdown",
   "metadata": {},
   "source": [
    "### Classe Ponto e Retangulo \n",
    "\n",
    "Faça um programa completo utilizando funções e classes que:\n",
    "\n",
    "a. Possua uma classe chamada Ponto, com os atributos x e y.\n",
    "\n",
    "b. Possua uma classe chamada Retangulo, com os atributos largura e altura.\n",
    "\n",
    "c. Possua uma função para imprimir os valores da classe Ponto\n",
    "\n",
    "d. Possua uma função para encontrar o centro de um Retângulo.\n",
    "\n",
    "e. Você deve criar alguns objetos da classe Retangulo.\n",
    "\n",
    "f. Cada objeto deve ter um vértice de partida, por exemplo, o vértice inferior esquerdo do retângulo, que deve ser um objeto da classe Ponto.\n",
    "\n",
    "g. A função para encontrar o centro do retângulo deve retornar o valor para um objeto do tipo ponto que indique os valores de x e y para o centro do objeto.\n",
    "\n",
    "h. O valor do centro do objeto deve ser mostrado na tela\n",
    "\n",
    "i. Crie um menu para alterar os valores do retângulo e imprimir o centro deste retângulo."
   ]
  },
  {
   "cell_type": "code",
   "execution_count": 47,
   "metadata": {},
   "outputs": [],
   "source": [
    "class Ponto():\n",
    "  def __init__ (self, x, y):\n",
    "    self.x = x\n",
    "    self.y = y \n",
    "  \n",
    "  def mostrarPonto (self):\n",
    "    print (f\"Ponto ({self.x},{self.y}\")\n",
    "  \n",
    "  def __str__ (self):\n",
    "    return f'{self.x},{self.y}'\n",
    "\n",
    "class RetanguloPoint(): #já existe uma classe Retangulo neste documento\n",
    "  def __init__ (self, largura, comprimento, partida):\n",
    "    self.largura = largura \n",
    "    self.comprimento = comprimento \n",
    "    self.partida = partida\n",
    "\n",
    "  def centroRetangulo (self):\n",
    "    return (Ponto((self.largura/2), (self.comprimento/2)))\n",
    "   \n",
    "    \n",
    "  def mudarRetangulo (self, larg, comp):\n",
    "    self.largura = larg\n",
    "    self.comprimento = comp\n",
    "  \n",
    "  def __str__ (self):\n",
    "    return f\"Largura: {self.largura}; Comprimento: {self.comprimento}; Centro: {self.centroRetangulo()}\""
   ]
  },
  {
   "cell_type": "code",
   "execution_count": 48,
   "metadata": {},
   "outputs": [
    {
     "name": "stdout",
     "output_type": "stream",
     "text": [
      "Largura: 10; Comprimento: 20; Centro: 5.0,10.0\n",
      "Largura: 15; Comprimento: 19; Centro: 7.5,9.5\n"
     ]
    }
   ],
   "source": [
    "# TESTES\n",
    "\n",
    "pontinho = Ponto (0,0)\n",
    "retangulozinho = RetanguloPoint(10,20,pontinho)\n",
    "print (retangulozinho)\n",
    "retangulozinho.mudarRetangulo(15,19)\n",
    "print (retangulozinho)\n"
   ]
  },
  {
   "attachments": {},
   "cell_type": "markdown",
   "metadata": {},
   "source": [
    "### Classe Bomba\n",
    "Faça um programa completo utilizando classes e métodos que:\n",
    "\n",
    "  a. Possua uma classe chamada bombaCombustível, com no mínimo esses atributos:\n",
    "\n",
    "    I. tipoCombustivel.\n",
    "\n",
    "    II. valorLitro\n",
    "\n",
    "    III. quantidadeCombustivel\n",
    "  b. Possua no mínimo esses métodos:\n",
    "\n",
    "    I. abastecerPorValor( ) – método onde é informado o valor a ser abastecido \n",
    "    e mostra a quantidade de litros que foi colocada no veículo\n",
    "    II. abastecerPorLitro( ) – método onde é informado a quantidade em litros \n",
    "    de combustível e mostra o valor a ser pago pelo cliente.\n",
    "    III. alterarValor( ) – altera o valor do litro do combustível.\n",
    "    IV. alterarCombustivel( ) – altera o tipo do combustível.\n",
    "    V. alterarQuantidadeCombustivel( ) – altera a quantidade de combustível \n",
    "    restante na bomba.\n",
    "\n",
    "**OBS:** Sempre que acontecer um abastecimento é necessário atualizar a quantidade de combustível total na bomba."
   ]
  },
  {
   "cell_type": "code",
   "execution_count": 49,
   "metadata": {},
   "outputs": [],
   "source": [
    "from time import sleep\n",
    "\n",
    "class Bomba():\n",
    "  def __init__ (self, tipo, valor, quantidade):\n",
    "    self.tipoCombustivel = tipo\n",
    "    self.valorLitro = valor\n",
    "    self.quantidade = quantidade #quantidade de combustível na bomba\n",
    "\n",
    "  def abastecerPorValor (self, valor):\n",
    "    litros = round((valor / self.valorLitro),2)\n",
    "    if self.quantidade < litros:\n",
    "      print (f\"Para R${valor}, a quantidade em litros é de {litros} litros\")\n",
    "      print (f\"A bomba não tem combustível suficiente. Há {self.quantidade} litros somente\")\n",
    "    else:\n",
    "      self.quantidade = self.quantidade - litros\n",
    "      print (\"Abastecendo...\")\n",
    "      sleep(2)\n",
    "      print (f\"Para R${valor}, a quantidade {litros} litros\")\n",
    "  \n",
    "  def abastecerPorLitro (self, litros):\n",
    "    valor = round((self.valorLitro * litros),2)\n",
    "    if litros > self.quantidade:\n",
    "      print (f\"Esta bomba tem {self.quantidade} litros, não é possível realizar o abastecimento\")\n",
    "    else:\n",
    "      self.quantidade = round((self.quantidade - litros),2)\n",
    "      print (\"Abastecendo...\")\n",
    "      sleep(2)\n",
    "      print (f\"Para {litros} litros, o valor é R${valor}\")\n",
    "  \n",
    "  def alterarValor (self, valor): # alterar valor do litro\n",
    "    self.valor = valor\n",
    "    print  (f\"O novo valor/litro do combustíve nessa bomba é R${self.valor}\")\n",
    "\n",
    "  def alterarCosbustível (self, tipo, quantidade=None): \n",
    "    self.tipoCombustivel = tipo\n",
    "    self.quantidade = quantidade if quantidade != None else 0\n",
    "    print (f\"O novo combustível desta bomba é {self.tipoCombustivel}, dele há {self.quantidade} litros\")\n",
    "    # inclu a quantidade, para não manter o novo combústivel com a mesma quantidade do anterior\n",
    "\n",
    "  def alterarQuantidade (self, nova_quantidade):\n",
    "    self.quantidade = nova_quantidade\n",
    "    print (\"Alterando quantidade de combustível...\")\n",
    "    sleep(2)\n",
    "    print (f\"A nova quantidade deste combustível, nesta bomba, é de {self.quantidade} litros\")\n",
    "  \n",
    "  def __str__ (self):\n",
    "    return f\"Nesta bomba há {self.quantidade} litros de {self.tipoCombustivel} à R${self.valorLitro} o litro\""
   ]
  },
  {
   "cell_type": "code",
   "execution_count": 50,
   "metadata": {},
   "outputs": [
    {
     "name": "stdout",
     "output_type": "stream",
     "text": [
      "Abastecendo...\n",
      "Para R$10.0, a quantidade 2.86 litros\n",
      "Nesta bomba há 17.14 litros de comum à R$3.5 o litro\n",
      "\n",
      "\n",
      "Abastecendo...\n",
      "Para 15 litros, o valor é R$52.5\n",
      "Nesta bomba há 2.14 litros de comum à R$3.5 o litro\n",
      "\n",
      "\n",
      "Esta bomba tem 2.14 litros, não é possível realizar o abastecimento\n",
      "Alterando quantidade de combustível...\n",
      "A nova quantidade deste combustível, nesta bomba, é de 10 litros\n",
      "Abastecendo...\n",
      "Para 3 litros, o valor é R$10.5\n"
     ]
    }
   ],
   "source": [
    "# TESTES\n",
    "\n",
    "bombinha = Bomba('comum', 3.5, 20)\n",
    "bombinha.abastecerPorValor(10.0)\n",
    "print (bombinha)\n",
    "print('\\n')\n",
    "bombinha.abastecerPorLitro(15)\n",
    "print (bombinha)\n",
    "print ('\\n')\n",
    "bombinha.abastecerPorLitro(3)\n",
    "bombinha.alterarQuantidade(10)\n",
    "bombinha.abastecerPorLitro(3)\n"
   ]
  },
  {
   "attachments": {},
   "cell_type": "markdown",
   "metadata": {},
   "source": [
    "### Classe Carro\n",
    "Implemente uma classe chamada Carro com as seguintes propriedades:\n",
    "\n",
    "    a. Um veículo tem um certo consumo de combustível (medidos em km / litro) e uma certa quantidade de \n",
    "    combustível no tanque.\n",
    "    b. O consumo é especificado no construtor e o nível de combustível inicial é 0.\n",
    "    c. Forneça um método andar( ) que simule o ato de dirigir o veículo por uma certa distância, \n",
    "    reduzindo o nível de combustível no tanque de gasolina.\n",
    "    d. Forneça um método obterGasolina( ), que retorna o nível atual de combustível.\n",
    "    e. Forneça um método adicionarGasolina( ), para abastecer o tanque. "
   ]
  },
  {
   "cell_type": "code",
   "execution_count": 51,
   "metadata": {},
   "outputs": [],
   "source": [
    "from time import sleep\n",
    "\n",
    "class Carro():\n",
    "  def __init__ (self, consumo, combustivel=0):\n",
    "    self.consumo = consumo # litros por km\n",
    "    self.combustivel = combustivel # em litros\n",
    "  \n",
    "  def andar (self, distancia): #distância em km\n",
    "    if self.combustivel - (self.consumo * distancia) < 0:\n",
    "      print (f\"Sem gasolina suficiente para o trajeto de {distancia}km\") \n",
    "    else:\n",
    "      self.combustivel = self.combustivel - (self.consumo * distancia)\n",
    "      sleep (2)\n",
    "      print (\"Passeando...\")\n",
    "  \n",
    "  def obterGasolina (self):\n",
    "    sleep (2)\n",
    "    print (f\"A quantidade atual de gasolina é de {self.combustivel} litros\")\n",
    "    sleep (2)\n",
    "\n",
    "  def adicionarGasolina (self, quantidade): #em litros\n",
    "    self.combustivel = self.combustivel + quantidade\n",
    "    print (f\"Abastecer {quantidade} litros\")\n",
    "    sleep (1)\n",
    "    print (\"Abastecendo...\")\n",
    "    sleep (2)\n",
    "    print (f\"Carro abastecido!\")"
   ]
  },
  {
   "cell_type": "code",
   "execution_count": 52,
   "metadata": {},
   "outputs": [
    {
     "name": "stdout",
     "output_type": "stream",
     "text": [
      "Abastecer 2 litros\n",
      "Abastecendo...\n",
      "Carro abastecido!\n",
      "A quantidade atual de gasolina é de 2 litros\n",
      "Sem gasolina suficiente para o trajeto de 5km\n",
      "\n",
      "\n",
      "A quantidade atual de gasolina é de 2 litros\n",
      "Abastecer 5 litros\n",
      "Abastecendo...\n",
      "Carro abastecido!\n",
      "Passeando...\n",
      "A quantidade atual de gasolina é de 4.5 litros\n"
     ]
    }
   ],
   "source": [
    "# TESTES\n",
    "\n",
    "carrinho = Carro(0.5)\n",
    "carrinho.adicionarGasolina(2)\n",
    "carrinho.obterGasolina()\n",
    "carrinho.andar(5)\n",
    "print (\"\\n\")\n",
    "carrinho.obterGasolina()\n",
    "carrinho.adicionarGasolina(5)\n",
    "carrinho.andar(5)\n",
    "carrinho.obterGasolina()"
   ]
  },
  {
   "attachments": {},
   "cell_type": "markdown",
   "metadata": {},
   "source": [
    "### Classe Tamagoshi\n",
    "\n",
    "Crie uma classe que modele um Tamagushi (Bichinho Eletrônico):\n",
    "\n",
    "a. Atributos: Nome, Fome, Saúde e Idade b. Métodos: Alterar Nome, Fome, Saúde e Idade; Retornar Nome, Fome, Saúde e Idade Obs: Existe mais uma informação que devemos levar em consideração, o Humor do nosso tamagushi, este humor é uma combinação entre os atributos Fome e Saúde, ou seja, um campo calculado, então não devemos criar um atributo para armazenar esta informação por que ela pode ser calculada a qualquer momento."
   ]
  },
  {
   "cell_type": "code",
   "execution_count": 53,
   "metadata": {},
   "outputs": [],
   "source": [
    "from time import sleep\n",
    "from random import randint\n",
    "\n",
    "# CRIAR UMA CLASSE QUE MODELE UM TAMAGOSHI\n",
    "class Tamagoshi():\n",
    "\n",
    "  def __init__ (self,nome, fome, saude, idade):\n",
    "    self.nome = nome\n",
    "    self.saude = saude\n",
    "    self.idade = idade\n",
    "  fome = randint(0,100)\n",
    "  tedio = randint(0,100)\n",
    "  \n",
    "  # métodos para alterar valores dos atributos\n",
    "  def alterarNome (self, nome):\n",
    "    self.nome = nome\n",
    "  \n",
    "  def alterarFome (self, fome):\n",
    "    self.fome = fome\n",
    "\n",
    "  def alterarIdade (self): #envelhecer \n",
    "    self.idade = self.idade + 1\n",
    "  \n",
    "  def alterarSaude (self, saude): \n",
    "    self.saude = saude\n",
    "  \n",
    "  # métodos para mostrar valores dos atributos\n",
    "  def monstrarNome(self):\n",
    "    print (self.nome)\n",
    "\n",
    "  def mostrarFome (self):\n",
    "    print (self.Fome)\n",
    "  \n",
    "  def mostrarIdade (self):\n",
    "    print (self.idade)\n",
    "  \n",
    "  def mostrarSaude (self):\n",
    "    print (self.saude)\n",
    "  \n",
    "  # humor do bichinho virtual\n",
    "  def mostrarHumor (self): \n",
    "    return (self.fome * self.saude)/2\n",
    "  \n",
    "  # porta escondida\n",
    "  def __str__ (self):\n",
    "    return f\"\\033[31mInformações de {self.nome}\\33[0m\\nFome = {self.fome}\\nSaúde = {self.saude}\\nTédio = {self.tedio}\\nIdade = {self.idade}\\nHumor = {self.mostrarHumor()}\"\n",
    "\n",
    "  # quantidade de comida\n",
    "  def alimentarTamagoshi(self, comida): #alimentar com pontos\n",
    "    self.fome = self.fome - comida\n",
    "\n",
    "  # brincar com o bichinho\n",
    "  def brincarTamagoshi (self, brincadeira): #\"tempo\" em ponto\n",
    "    self.tedio = self.tedio - brincadeira if self.tedio > self.tedio - brincadeira else self.tedio\n",
    "\n"
   ]
  },
  {
   "cell_type": "code",
   "execution_count": 54,
   "metadata": {},
   "outputs": [
    {
     "name": "stdout",
     "output_type": "stream",
     "text": [
      "\u001b[31mInformações de Hinata\u001b[0m\n",
      "Fome = 67\n",
      "Saúde = 50\n",
      "Tédio = 38\n",
      "Idade = 1\n",
      "Humor = 1675.0\n",
      "\u001b[31mInformações de Momo\u001b[0m\n",
      "Fome = 20\n",
      "Saúde = 80\n",
      "Tédio = 38\n",
      "Idade = 2\n",
      "Humor = 800.0\n",
      "\u001b[31mInformações de Momo\u001b[0m\n",
      "Fome = 5\n",
      "Saúde = 80\n",
      "Tédio = 36\n",
      "Idade = 2\n",
      "Humor = 200.0\n"
     ]
    },
    {
     "data": {
      "text/plain": [
       "200.0"
      ]
     },
     "execution_count": 54,
     "metadata": {},
     "output_type": "execute_result"
    }
   ],
   "source": [
    "# TESTES\n",
    "\n",
    "bichinho = Tamagoshi(\"Hinata\", 50,50,1) \n",
    "print (bichinho)\n",
    "bichinho.alterarNome(\"Momo\")\n",
    "bichinho.alterarSaude(80)\n",
    "bichinho.alterarIdade()\n",
    "bichinho.alterarFome(20)\n",
    "print (bichinho)\n",
    "bichinho.alimentarTamagoshi(15)\n",
    "bichinho.brincarTamagoshi(2)\n",
    "print(bichinho)\n",
    "bichinho.mostrarHumor()"
   ]
  },
  {
   "cell_type": "markdown",
   "metadata": {},
   "source": [
    "### Classe Tamagoshi ++\n",
    "Melhore o programa do bichinho virtual, permitindo que o usuário especifique quanto de comida ele fornece ao bichinho e por quanto tempo ele brinca com o bichinho. Faça com que estes valores afetem quão rapidamente os níveis de fome e tédio caem.\n",
    "\n",
    "• Crie uma \"porta escondida\" no programa do programa do bichinho virtual que mostre os valores exatos dos atributos do objeto. Consiga isto mostrando o objeto quando uma opção secreta, não listada no menu, for informada na escolha do usuário. Dica: acrescente um método especial str() à classe Bichinho.\n",
    "\n",
    "• Crie uma Fazenda de Bichinhos instanciando vários objetos bichinho e mantendo o controle deles através de uma lista. Imite o funcionamento do programa básico, mas ao invés de exigis que o usuário tome conta de um único bichinho, exija que ele tome conta da fazenda inteira. Cada opção do menu deveria permitir que o usuário executasse uma ação para todos os bichinhos (alimentar todos os bichinhos, brincar com todos os bichinhos, ou ouvir a todos os bichinhos). Para tornar o programa mais interessante, dê para cada bichinho."
   ]
  },
  {
   "cell_type": "code",
   "execution_count": 55,
   "metadata": {},
   "outputs": [],
   "source": [
    "# FAZENDA DE BICHINHOS\n",
    "\n",
    "class FazendaBichinhos():\n",
    "\n",
    "  def __init__ (self, listabichinhos = []):\n",
    "    self.listaBichinhos = listabichinhos\n",
    "  \n",
    "  def incluirBichinhos (self, nome, fome, saude, idade):\n",
    "    bichinhoNovo = Tamagoshi(nome, fome, saude, idade)\n",
    "    self.listaBichinhos.append (bichinhoNovo)\n",
    "\n",
    "  def alimentarTodos (self, alimento):\n",
    "    for bichinho in self.listaBichinhos:\n",
    "      bichinho.alimentarTamagoshi(alimento)\n",
    "  \n",
    "  def brincarComTodos (self, brincar):\n",
    "    for bichinho in self.listaBichinhos:\n",
    "      bichinho.brincarTamagoshi(brincar)\n",
    "\n",
    "  def mostrarBichinhos(self):\n",
    "    for i in self.listaBichinhos:\n",
    "      print (i)"
   ]
  },
  {
   "cell_type": "code",
   "execution_count": 56,
   "metadata": {},
   "outputs": [
    {
     "name": "stdout",
     "output_type": "stream",
     "text": [
      "\u001b[31mInformações de momo\u001b[0m\n",
      "Fome = 67\n",
      "Saúde = 50\n",
      "Tédio = 38\n",
      "Idade = 1\n",
      "Humor = 1675.0\n",
      "\u001b[31mInformações de hinata\u001b[0m\n",
      "Fome = 67\n",
      "Saúde = 50\n",
      "Tédio = 38\n",
      "Idade = 1\n",
      "Humor = 1675.0\n",
      "\u001b[31mInformações de neko\u001b[0m\n",
      "Fome = 67\n",
      "Saúde = 50\n",
      "Tédio = 38\n",
      "Idade = 1\n",
      "Humor = 1675.0\n",
      "\n",
      "\n",
      "\u001b[31mInformações de momo\u001b[0m\n",
      "Fome = 47\n",
      "Saúde = 50\n",
      "Tédio = 38\n",
      "Idade = 1\n",
      "Humor = 1175.0\n",
      "\u001b[31mInformações de hinata\u001b[0m\n",
      "Fome = 47\n",
      "Saúde = 50\n",
      "Tédio = 38\n",
      "Idade = 1\n",
      "Humor = 1175.0\n",
      "\u001b[31mInformações de neko\u001b[0m\n",
      "Fome = 47\n",
      "Saúde = 50\n",
      "Tédio = 38\n",
      "Idade = 1\n",
      "Humor = 1175.0\n",
      "\n",
      "\n",
      "\u001b[31mInformações de momo\u001b[0m\n",
      "Fome = 47\n",
      "Saúde = 50\n",
      "Tédio = 8\n",
      "Idade = 1\n",
      "Humor = 1175.0\n",
      "\u001b[31mInformações de hinata\u001b[0m\n",
      "Fome = 47\n",
      "Saúde = 50\n",
      "Tédio = 8\n",
      "Idade = 1\n",
      "Humor = 1175.0\n",
      "\u001b[31mInformações de neko\u001b[0m\n",
      "Fome = 47\n",
      "Saúde = 50\n",
      "Tédio = 8\n",
      "Idade = 1\n",
      "Humor = 1175.0\n"
     ]
    }
   ],
   "source": [
    "# TESTES\n",
    "\n",
    "fazendinha = FazendaBichinhos()\n",
    "fazendinha.incluirBichinhos(\"momo\", 50, 50, 1)\n",
    "fazendinha.incluirBichinhos(\"hinata\", 50, 50, 1)\n",
    "fazendinha.incluirBichinhos(\"neko\", 50, 50, 1)\n",
    "fazendinha.mostrarBichinhos()\n",
    "print('\\n')\n",
    "fazendinha.alimentarTodos(20)\n",
    "fazendinha.mostrarBichinhos()\n",
    "print ('\\n')\n",
    "fazendinha.brincarComTodos(30)\n",
    "fazendinha.mostrarBichinhos()"
   ]
  }
 ],
 "metadata": {
  "kernelspec": {
   "display_name": "Python 3",
   "language": "python",
   "name": "python3"
  },
  "language_info": {
   "codemirror_mode": {
    "name": "ipython",
    "version": 3
   },
   "file_extension": ".py",
   "mimetype": "text/x-python",
   "name": "python",
   "nbconvert_exporter": "python",
   "pygments_lexer": "ipython3",
   "version": "3.11.3"
  },
  "orig_nbformat": 4
 },
 "nbformat": 4,
 "nbformat_minor": 2
}
